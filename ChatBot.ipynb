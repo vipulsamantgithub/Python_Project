{
  "nbformat": 4,
  "nbformat_minor": 0,
  "metadata": {
    "colab": {
      "name": "ChatBot.ipynb",
      "provenance": [],
      "collapsed_sections": [],
      "mount_file_id": "1Sv12pm4I045UUFKzOZToyJLeCJgBvvTu",
      "authorship_tag": "ABX9TyO0t1pbN0kYQRuyEk+nmVDd",
      "include_colab_link": true
    },
    "kernelspec": {
      "name": "python3",
      "display_name": "Python 3"
    },
    "language_info": {
      "name": "python"
    }
  },
  "cells": [
    {
      "cell_type": "markdown",
      "metadata": {
        "id": "view-in-github",
        "colab_type": "text"
      },
      "source": [
        "<a href=\"https://colab.research.google.com/github/vipulsamantgithub/Python_Project/blob/main/ChatBot.ipynb\" target=\"_parent\"><img src=\"https://colab.research.google.com/assets/colab-badge.svg\" alt=\"Open In Colab\"/></a>"
      ]
    },
    {
      "cell_type": "code",
      "metadata": {
        "colab": {
          "base_uri": "https://localhost:8080/"
        },
        "id": "fR4NSKwAH7pR",
        "outputId": "af72c054-85b3-4b9e-ae16-9ea78de1f313"
      },
      "source": [
        "pip install chatterbot"
      ],
      "execution_count": 1,
      "outputs": [
        {
          "output_type": "stream",
          "name": "stdout",
          "text": [
            "Collecting chatterbot\n",
            "  Downloading ChatterBot-1.0.8-py2.py3-none-any.whl (63 kB)\n",
            "\u001b[K     |████████████████████████████████| 63 kB 1.4 MB/s \n",
            "\u001b[?25hCollecting mathparse<0.2,>=0.1\n",
            "  Downloading mathparse-0.1.2-py3-none-any.whl (7.2 kB)\n",
            "Requirement already satisfied: pytz in /usr/local/lib/python3.7/dist-packages (from chatterbot) (2018.9)\n",
            "Requirement already satisfied: python-dateutil<2.9,>=2.8 in /usr/local/lib/python3.7/dist-packages (from chatterbot) (2.8.2)\n",
            "Collecting sqlalchemy<1.4,>=1.3\n",
            "  Downloading SQLAlchemy-1.3.24-cp37-cp37m-manylinux2010_x86_64.whl (1.3 MB)\n",
            "\u001b[K     |████████████████████████████████| 1.3 MB 10.1 MB/s \n",
            "\u001b[?25hRequirement already satisfied: six>=1.5 in /usr/local/lib/python3.7/dist-packages (from python-dateutil<2.9,>=2.8->chatterbot) (1.15.0)\n",
            "Installing collected packages: sqlalchemy, mathparse, chatterbot\n",
            "  Attempting uninstall: sqlalchemy\n",
            "    Found existing installation: SQLAlchemy 1.4.26\n",
            "    Uninstalling SQLAlchemy-1.4.26:\n",
            "      Successfully uninstalled SQLAlchemy-1.4.26\n",
            "Successfully installed chatterbot-1.0.8 mathparse-0.1.2 sqlalchemy-1.3.24\n"
          ]
        }
      ]
    },
    {
      "cell_type": "code",
      "metadata": {
        "colab": {
          "base_uri": "https://localhost:8080/"
        },
        "id": "f-xCVtkUIHah",
        "outputId": "9157a471-61d1-46b7-8f1b-22947fa3a3ac"
      },
      "source": [
        "pip install chatterbot_corpus"
      ],
      "execution_count": 2,
      "outputs": [
        {
          "output_type": "stream",
          "name": "stdout",
          "text": [
            "Collecting chatterbot_corpus\n",
            "  Downloading chatterbot_corpus-1.2.0-py2.py3-none-any.whl (117 kB)\n",
            "\u001b[?25l\r\u001b[K     |██▉                             | 10 kB 18.6 MB/s eta 0:00:01\r\u001b[K     |█████▋                          | 20 kB 24.4 MB/s eta 0:00:01\r\u001b[K     |████████▍                       | 30 kB 12.3 MB/s eta 0:00:01\r\u001b[K     |███████████▏                    | 40 kB 9.7 MB/s eta 0:00:01\r\u001b[K     |██████████████                  | 51 kB 5.3 MB/s eta 0:00:01\r\u001b[K     |████████████████▊               | 61 kB 6.0 MB/s eta 0:00:01\r\u001b[K     |███████████████████▋            | 71 kB 5.7 MB/s eta 0:00:01\r\u001b[K     |██████████████████████▍         | 81 kB 6.4 MB/s eta 0:00:01\r\u001b[K     |█████████████████████████▏      | 92 kB 4.8 MB/s eta 0:00:01\r\u001b[K     |████████████████████████████    | 102 kB 5.2 MB/s eta 0:00:01\r\u001b[K     |██████████████████████████████▊ | 112 kB 5.2 MB/s eta 0:00:01\r\u001b[K     |████████████████████████████████| 117 kB 5.2 MB/s \n",
            "\u001b[?25hRequirement already satisfied: PyYAML<4.0,>=3.12 in /usr/local/lib/python3.7/dist-packages (from chatterbot_corpus) (3.13)\n",
            "Installing collected packages: chatterbot-corpus\n",
            "Successfully installed chatterbot-corpus-1.2.0\n"
          ]
        }
      ]
    },
    {
      "cell_type": "code",
      "metadata": {
        "colab": {
          "base_uri": "https://localhost:8080/"
        },
        "id": "EFg1fq_ALpkc",
        "outputId": "f4f1037f-43b6-46dc-d4c5-85143f4c7886"
      },
      "source": [
        "import os\n",
        "os.listdir(\"/content/drive/MyDrive/data\")\n"
      ],
      "execution_count": 13,
      "outputs": [
        {
          "output_type": "execute_result",
          "data": {
            "text/plain": [
              "['swedish',\n",
              " 'traditionalchinese',\n",
              " 'thai',\n",
              " 'spanish',\n",
              " 'russian',\n",
              " 'turkish',\n",
              " 'persian',\n",
              " 'portuguese',\n",
              " 'telugu',\n",
              " 'oriya',\n",
              " 'korean',\n",
              " 'french',\n",
              " 'italian',\n",
              " 'hebrew',\n",
              " 'japanese',\n",
              " 'german',\n",
              " 'english',\n",
              " 'hindi',\n",
              " 'marathi',\n",
              " 'indonesian',\n",
              " 'bengali',\n",
              " 'chinese']"
            ]
          },
          "metadata": {},
          "execution_count": 13
        }
      ]
    },
    {
      "cell_type": "code",
      "metadata": {
        "colab": {
          "base_uri": "https://localhost:8080/"
        },
        "id": "yAVSIbYNPTgz",
        "outputId": "2f3658ad-1093-4f19-ed06-ec9ca3e5a9dc"
      },
      "source": [
        "from chatterbot import *\n",
        "from chatterbot.trainers import ListTrainer\n",
        "import os\n",
        "\n",
        "bot = ChatBot(\"MyChatBot\")\n",
        "trainer = ListTrainer(bot)\n",
        "\n",
        "for files in os.listdir('/content/drive/MyDrive/data/english/'):\n",
        "    data = open('/content/drive/MyDrive/data/english/' + files , 'r').readlines()\n",
        "    trainer.train(data)\n",
        "\n",
        "while True:\n",
        "    message = input('You: ')\n",
        "    if message.lower().strip() != 'bye':\n",
        "        reply = bot.get_response(message)\n",
        "        print('Chatbot: ', reply)\n",
        "    if message.lower().strip() == 'bye':\n",
        "        print('ChatBot: Bye')\n",
        "        break"
      ],
      "execution_count": 30,
      "outputs": [
        {
          "output_type": "stream",
          "name": "stdout",
          "text": [
            "List Trainer: [####################] 100%\n",
            "List Trainer: [####################] 100%\n",
            "List Trainer: [####################] 100%\n",
            "List Trainer: [####################] 100%\n",
            "List Trainer: [####################] 100%\n",
            "List Trainer: [####################] 100%\n",
            "List Trainer: [####################] 100%\n",
            "List Trainer: [####################] 100%\n",
            "List Trainer: [####################] 100%\n",
            "List Trainer: [####################] 100%\n",
            "List Trainer: [####################] 100%\n",
            "List Trainer: [####################] 100%\n",
            "List Trainer: [####################] 100%\n",
            "List Trainer: [####################] 100%\n",
            "List Trainer: [####################] 100%\n",
            "List Trainer: [####################] 100%\n",
            "List Trainer: [####################] 100%\n",
            "List Trainer: [####################] 100%\n",
            "List Trainer: [####################] 100%\n",
            "You: bye\n",
            "ChatBot: Bye\n"
          ]
        }
      ]
    }
  ]
}